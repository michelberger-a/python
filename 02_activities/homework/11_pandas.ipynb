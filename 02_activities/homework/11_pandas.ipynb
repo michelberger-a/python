{
 "cells": [
  {
   "cell_type": "markdown",
   "metadata": {},
   "source": [
    "# Pandas\n",
    "## Practice Problems"
   ]
  },
  {
   "cell_type": "markdown",
   "metadata": {},
   "source": [
    "### 1. Start by loading the `subway_stations.csv` to a DataFrame, and then:\n",
    "\n",
    "1.   Check the first 5 rows of subway_stations.\n",
    "2.   Check subway_stations column data types and shape.\n",
    "3.   How many unique values are in the station column?\n",
    "4.   merge() the subway station data into delays_w_reasons. Make sure that all delay records are kept, even if there is no matching station name in subway_stations. The resulting DataFrame should have 16,370 rows."
   ]
  },
  {
   "cell_type": "code",
   "execution_count": 1,
   "metadata": {},
   "outputs": [
    {
     "data": {
      "text/html": [
       "<div>\n",
       "<style scoped>\n",
       "    .dataframe tbody tr th:only-of-type {\n",
       "        vertical-align: middle;\n",
       "    }\n",
       "\n",
       "    .dataframe tbody tr th {\n",
       "        vertical-align: top;\n",
       "    }\n",
       "\n",
       "    .dataframe thead th {\n",
       "        text-align: right;\n",
       "    }\n",
       "</style>\n",
       "<table border=\"1\" class=\"dataframe\">\n",
       "  <thead>\n",
       "    <tr style=\"text-align: right;\">\n",
       "      <th></th>\n",
       "      <th>stop_lat</th>\n",
       "      <th>stop_lon</th>\n",
       "      <th>station</th>\n",
       "    </tr>\n",
       "  </thead>\n",
       "  <tbody>\n",
       "    <tr>\n",
       "      <th>0</th>\n",
       "      <td>43.666061</td>\n",
       "      <td>-79.411065</td>\n",
       "      <td>BATHURST STATION</td>\n",
       "    </tr>\n",
       "    <tr>\n",
       "      <th>1</th>\n",
       "      <td>43.670149</td>\n",
       "      <td>-79.390089</td>\n",
       "      <td>BAY STATION</td>\n",
       "    </tr>\n",
       "    <tr>\n",
       "      <th>2</th>\n",
       "      <td>43.766872</td>\n",
       "      <td>-79.386703</td>\n",
       "      <td>BAYVIEW STATION</td>\n",
       "    </tr>\n",
       "    <tr>\n",
       "      <th>3</th>\n",
       "      <td>43.769202</td>\n",
       "      <td>-79.376312</td>\n",
       "      <td>BESSARION STATION</td>\n",
       "    </tr>\n",
       "    <tr>\n",
       "      <th>4</th>\n",
       "      <td>43.670049</td>\n",
       "      <td>-79.385389</td>\n",
       "      <td>BLOOR STATION</td>\n",
       "    </tr>\n",
       "  </tbody>\n",
       "</table>\n",
       "</div>"
      ],
      "text/plain": [
       "    stop_lat   stop_lon            station\n",
       "0  43.666061 -79.411065   BATHURST STATION\n",
       "1  43.670149 -79.390089        BAY STATION\n",
       "2  43.766872 -79.386703    BAYVIEW STATION\n",
       "3  43.769202 -79.376312  BESSARION STATION\n",
       "4  43.670049 -79.385389      BLOOR STATION"
      ]
     },
     "execution_count": 1,
     "metadata": {},
     "output_type": "execute_result"
    }
   ],
   "source": [
    "# Your code here\n",
    "import pandas as pd\n",
    "\n",
    "data = pd.read_csv(r\"C:\\Users\\Alexander\\Documents\\DSI\\python_assignment1\\python\\05_src\\data\\slides_data\\subway_stations.csv\")\n",
    "data.head()"
   ]
  },
  {
   "cell_type": "markdown",
   "metadata": {},
   "source": [
    "<details>\n",
    "  <summary>Answer</summary>\n",
    "\n",
    "  ```python\n",
    "  import numpy as np\n",
    "  import pandas as pd\n",
    "\n",
    "  subway = pd.read_csv('/content/data/subway_stations.csv') #change path\n",
    "  subway.head()\n",
    "  ```\n",
    "</details>"
   ]
  },
  {
   "cell_type": "markdown",
   "metadata": {},
   "source": [
    "2.   Check subway_stations column data types and shape.\n"
   ]
  },
  {
   "cell_type": "code",
   "execution_count": 2,
   "metadata": {},
   "outputs": [
    {
     "name": "stdout",
     "output_type": "stream",
     "text": [
      "stop_lat    float64\n",
      "stop_lon    float64\n",
      "station      object\n",
      "dtype: object\n",
      "(77, 3)\n"
     ]
    }
   ],
   "source": [
    "# Your code here\n",
    "print(data.dtypes)\n",
    "print(data.shape)"
   ]
  },
  {
   "cell_type": "markdown",
   "metadata": {},
   "source": [
    "<details>\n",
    "  <summary>Answer</summary>\n",
    "\n",
    "  ```python\n",
    "  subway.info()\n",
    "  ```\n",
    "</details>"
   ]
  },
  {
   "cell_type": "markdown",
   "metadata": {},
   "source": [
    "3.   How many unique values are in the station column?\n"
   ]
  },
  {
   "cell_type": "code",
   "execution_count": 3,
   "metadata": {},
   "outputs": [
    {
     "data": {
      "text/plain": [
       "77"
      ]
     },
     "execution_count": 3,
     "metadata": {},
     "output_type": "execute_result"
    }
   ],
   "source": [
    "# Your code here\n",
    "data['station'].unique().shape[0]"
   ]
  },
  {
   "cell_type": "markdown",
   "metadata": {},
   "source": [
    "<details>\n",
    "  <summary>Answer</summary>\n",
    "\n",
    "  ```python\n",
    "  len(subway['station'].unique())\n",
    "  ```\n",
    "</details>"
   ]
  },
  {
   "cell_type": "markdown",
   "metadata": {},
   "source": [
    "4.   merge() the subway station data into delays_w_reasons. Make sure that all delay records are kept, even if there is no matching station name in subway_stations. The resulting DataFrame should have 16,370 rows."
   ]
  },
  {
   "cell_type": "code",
   "execution_count": 5,
   "metadata": {},
   "outputs": [
    {
     "ename": "ModuleNotFoundError",
     "evalue": "No module named 'openpyxl'",
     "output_type": "error",
     "traceback": [
      "\u001b[1;31m---------------------------------------------------------------------------\u001b[0m",
      "\u001b[1;31mModuleNotFoundError\u001b[0m                       Traceback (most recent call last)",
      "Cell \u001b[1;32mIn[5], line 2\u001b[0m\n\u001b[0;32m      1\u001b[0m \u001b[38;5;66;03m# Your code here\u001b[39;00m\n\u001b[1;32m----> 2\u001b[0m \u001b[38;5;28;01mimport\u001b[39;00m \u001b[38;5;21;01mopenpyxl\u001b[39;00m\n\u001b[0;32m      3\u001b[0m delay \u001b[38;5;241m=\u001b[39m pd\u001b[38;5;241m.\u001b[39mread_excel(\u001b[38;5;124mr\u001b[39m\u001b[38;5;124m\"\u001b[39m\u001b[38;5;124mC:\u001b[39m\u001b[38;5;124m\\\u001b[39m\u001b[38;5;124mUsers\u001b[39m\u001b[38;5;124m\\\u001b[39m\u001b[38;5;124mAlexander\u001b[39m\u001b[38;5;124m\\\u001b[39m\u001b[38;5;124mDocuments\u001b[39m\u001b[38;5;124m\\\u001b[39m\u001b[38;5;124mDSI\u001b[39m\u001b[38;5;124m\\\u001b[39m\u001b[38;5;124mpython_assignment1\u001b[39m\u001b[38;5;124m\\\u001b[39m\u001b[38;5;124mpython\u001b[39m\u001b[38;5;124m\\\u001b[39m\u001b[38;5;124m05_src\u001b[39m\u001b[38;5;124m\\\u001b[39m\u001b[38;5;124mdata\u001b[39m\u001b[38;5;124m\\\u001b[39m\u001b[38;5;124mslides_data\u001b[39m\u001b[38;5;124m\\\u001b[39m\u001b[38;5;124mttc_subway_delays_w_reasons.xlsx\u001b[39m\u001b[38;5;124m\"\u001b[39m)\n\u001b[0;32m      4\u001b[0m delay\u001b[38;5;241m.\u001b[39mhead()\n",
      "\u001b[1;31mModuleNotFoundError\u001b[0m: No module named 'openpyxl'"
     ]
    }
   ],
   "source": [
    "# Your code here\n",
    "import openpyxl\n",
    "delay = pd.read_excel(r\"C:\\Users\\Alexander\\Documents\\DSI\\python_assignment1\\python\\05_src\\data\\slides_data\\ttc_subway_delays_w_reasons.xlsx\")\n",
    "delay.head()"
   ]
  },
  {
   "cell_type": "code",
   "execution_count": 12,
   "metadata": {},
   "outputs": [
    {
     "data": {
      "text/html": [
       "<div>\n",
       "<style scoped>\n",
       "    .dataframe tbody tr th:only-of-type {\n",
       "        vertical-align: middle;\n",
       "    }\n",
       "\n",
       "    .dataframe tbody tr th {\n",
       "        vertical-align: top;\n",
       "    }\n",
       "\n",
       "    .dataframe thead th {\n",
       "        text-align: right;\n",
       "    }\n",
       "</style>\n",
       "<table border=\"1\" class=\"dataframe\">\n",
       "  <thead>\n",
       "    <tr style=\"text-align: right;\">\n",
       "      <th></th>\n",
       "      <th>date</th>\n",
       "      <th>time</th>\n",
       "      <th>day</th>\n",
       "      <th>station</th>\n",
       "      <th>code</th>\n",
       "      <th>min_delay</th>\n",
       "      <th>min_gap</th>\n",
       "      <th>bound</th>\n",
       "      <th>line</th>\n",
       "      <th>vehicle</th>\n",
       "      <th>code_description</th>\n",
       "      <th>sub_or_srt</th>\n",
       "      <th>year</th>\n",
       "      <th>hour_delay</th>\n",
       "      <th>month</th>\n",
       "      <th>hour</th>\n",
       "      <th>stop_lat</th>\n",
       "      <th>stop_lon</th>\n",
       "    </tr>\n",
       "  </thead>\n",
       "  <tbody>\n",
       "    <tr>\n",
       "      <th>0</th>\n",
       "      <td>2021-01-01 00:00:00</td>\n",
       "      <td>00:33</td>\n",
       "      <td>Friday</td>\n",
       "      <td>BLOOR STATION</td>\n",
       "      <td>MUPAA</td>\n",
       "      <td>0</td>\n",
       "      <td>0</td>\n",
       "      <td>N</td>\n",
       "      <td>YU</td>\n",
       "      <td>6046</td>\n",
       "      <td>Passenger Assistance Alarm Activated - No Trou...</td>\n",
       "      <td>SUB</td>\n",
       "      <td>2021</td>\n",
       "      <td>0.00</td>\n",
       "      <td>1</td>\n",
       "      <td>0</td>\n",
       "      <td>43.670049</td>\n",
       "      <td>-79.385389</td>\n",
       "    </tr>\n",
       "    <tr>\n",
       "      <th>1</th>\n",
       "      <td>2021-01-01 00:00:00</td>\n",
       "      <td>00:39</td>\n",
       "      <td>Friday</td>\n",
       "      <td>SHERBOURNE STATION</td>\n",
       "      <td>EUCO</td>\n",
       "      <td>5</td>\n",
       "      <td>9</td>\n",
       "      <td>E</td>\n",
       "      <td>BD</td>\n",
       "      <td>5250</td>\n",
       "      <td>Couplers</td>\n",
       "      <td>SUB</td>\n",
       "      <td>2021</td>\n",
       "      <td>0.08</td>\n",
       "      <td>1</td>\n",
       "      <td>0</td>\n",
       "      <td>43.672103</td>\n",
       "      <td>-79.376162</td>\n",
       "    </tr>\n",
       "    <tr>\n",
       "      <th>2</th>\n",
       "      <td>2021-01-01 00:00:00</td>\n",
       "      <td>01:07</td>\n",
       "      <td>Friday</td>\n",
       "      <td>KENNEDY BD STATION</td>\n",
       "      <td>EUCD</td>\n",
       "      <td>5</td>\n",
       "      <td>9</td>\n",
       "      <td>E</td>\n",
       "      <td>BD</td>\n",
       "      <td>5249</td>\n",
       "      <td>Consequential Delay (2nd Delay Same Fault)</td>\n",
       "      <td>SUB</td>\n",
       "      <td>2021</td>\n",
       "      <td>0.08</td>\n",
       "      <td>1</td>\n",
       "      <td>1</td>\n",
       "      <td>NaN</td>\n",
       "      <td>NaN</td>\n",
       "    </tr>\n",
       "    <tr>\n",
       "      <th>3</th>\n",
       "      <td>2021-01-01 00:00:00</td>\n",
       "      <td>01:41</td>\n",
       "      <td>Friday</td>\n",
       "      <td>ST CLAIR STATION</td>\n",
       "      <td>MUIS</td>\n",
       "      <td>0</td>\n",
       "      <td>0</td>\n",
       "      <td>NaN</td>\n",
       "      <td>YU</td>\n",
       "      <td>0</td>\n",
       "      <td>Injured or ill Customer (In Station) - Transpo...</td>\n",
       "      <td>SUB</td>\n",
       "      <td>2021</td>\n",
       "      <td>0.00</td>\n",
       "      <td>1</td>\n",
       "      <td>1</td>\n",
       "      <td>43.687857</td>\n",
       "      <td>-79.391958</td>\n",
       "    </tr>\n",
       "    <tr>\n",
       "      <th>4</th>\n",
       "      <td>2021-01-01 00:00:00</td>\n",
       "      <td>02:04</td>\n",
       "      <td>Friday</td>\n",
       "      <td>SHEPPARD WEST STATION</td>\n",
       "      <td>MUIS</td>\n",
       "      <td>0</td>\n",
       "      <td>0</td>\n",
       "      <td>NaN</td>\n",
       "      <td>YU</td>\n",
       "      <td>0</td>\n",
       "      <td>Injured or ill Customer (In Station) - Transpo...</td>\n",
       "      <td>SUB</td>\n",
       "      <td>2021</td>\n",
       "      <td>0.00</td>\n",
       "      <td>1</td>\n",
       "      <td>2</td>\n",
       "      <td>43.749571</td>\n",
       "      <td>-79.462186</td>\n",
       "    </tr>\n",
       "  </tbody>\n",
       "</table>\n",
       "</div>"
      ],
      "text/plain": [
       "                  date   time     day                station   code  \\\n",
       "0  2021-01-01 00:00:00  00:33  Friday          BLOOR STATION  MUPAA   \n",
       "1  2021-01-01 00:00:00  00:39  Friday     SHERBOURNE STATION   EUCO   \n",
       "2  2021-01-01 00:00:00  01:07  Friday     KENNEDY BD STATION   EUCD   \n",
       "3  2021-01-01 00:00:00  01:41  Friday       ST CLAIR STATION   MUIS   \n",
       "4  2021-01-01 00:00:00  02:04  Friday  SHEPPARD WEST STATION   MUIS   \n",
       "\n",
       "   min_delay  min_gap bound line  vehicle  \\\n",
       "0          0        0     N   YU     6046   \n",
       "1          5        9     E   BD     5250   \n",
       "2          5        9     E   BD     5249   \n",
       "3          0        0   NaN   YU        0   \n",
       "4          0        0   NaN   YU        0   \n",
       "\n",
       "                                    code_description sub_or_srt  year  \\\n",
       "0  Passenger Assistance Alarm Activated - No Trou...        SUB  2021   \n",
       "1                                           Couplers        SUB  2021   \n",
       "2         Consequential Delay (2nd Delay Same Fault)        SUB  2021   \n",
       "3  Injured or ill Customer (In Station) - Transpo...        SUB  2021   \n",
       "4  Injured or ill Customer (In Station) - Transpo...        SUB  2021   \n",
       "\n",
       "   hour_delay  month  hour   stop_lat   stop_lon  \n",
       "0        0.00      1     0  43.670049 -79.385389  \n",
       "1        0.08      1     0  43.672103 -79.376162  \n",
       "2        0.08      1     1        NaN        NaN  \n",
       "3        0.00      1     1  43.687857 -79.391958  \n",
       "4        0.00      1     2  43.749571 -79.462186  "
      ]
     },
     "execution_count": 12,
     "metadata": {},
     "output_type": "execute_result"
    }
   ],
   "source": [
    "merged_subway = pd.merge(delay, \n",
    "                            data,\n",
    "                            how=\"left\",\n",
    "                            left_on=\"station\",\n",
    "                            right_on=\"station\")\n",
    "\n",
    "merged_subway.head()"
   ]
  },
  {
   "cell_type": "markdown",
   "metadata": {},
   "source": [
    "<details>\n",
    "  <summary>Answer</summary>\n",
    "\n",
    "  ```python\n",
    "  delay_w_reasons = pd.read_excel('/content/data/delays_w_reasons.xlsx') #change path\n",
    "merged = pd.merge(delay_w_reasons, \n",
    "                            subway, \n",
    "                            how='left',\n",
    "                            left_on='station', \n",
    "                            right_on='station')\n",
    "merged.head()\n",
    "  ```\n",
    "</details>\n",
    "\n"
   ]
  }
 ],
 "metadata": {
  "kernelspec": {
   "display_name": "Python 3",
   "language": "python",
   "name": "python3"
  },
  "language_info": {
   "codemirror_mode": {
    "name": "ipython",
    "version": 3
   },
   "file_extension": ".py",
   "mimetype": "text/x-python",
   "name": "python",
   "nbconvert_exporter": "python",
   "pygments_lexer": "ipython3",
   "version": "3.9.15"
  }
 },
 "nbformat": 4,
 "nbformat_minor": 2
}
